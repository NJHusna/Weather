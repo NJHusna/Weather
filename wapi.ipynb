{
 "cells": [
  {
   "cell_type": "markdown",
   "metadata": {},
   "source": []
  },
  {
   "cell_type": "code",
   "execution_count": 57,
   "metadata": {},
   "outputs": [],
   "source": [
    "import os\n",
    "import httpx\n",
    "from dotenv import load_dotenv\n",
    "import psycopg2\n",
    "import json"
   ]
  },
  {
   "cell_type": "markdown",
   "metadata": {},
   "source": [
    "1. Open the link --> https://openweathermap.org/api\n",
    "2. Click on the *API doc* for Current Weather Data - https://openweathermap.org/current\n",
    "3. load_dotenv() - Load environment variables from .env file"
   ]
  },
  {
   "cell_type": "code",
   "execution_count": 58,
   "metadata": {},
   "outputs": [],
   "source": [
    "def load_env_variables():\n",
    "    load_dotenv()\n",
    "    api_key_c = os.getenv(\"api_key_c\")\n",
    "    api_key_w = os.getenv(\"api_key_w\")\n",
    "    db_name = os.getenv(\"DB_NAME\")\n",
    "    db_user = os.getenv(\"DB_USER\")\n",
    "    db_password = os.getenv(\"DB_PASSWORD\")\n",
    "    db_host = os.getenv(\"DB_HOST\")\n",
    "    db_port = os.getenv(\"DB_PORT\")\n",
    "    return api_key_c, api_key_w, db_name, db_user, db_password, db_host, db_port"
   ]
  },
  {
   "cell_type": "code",
   "execution_count": 65,
   "metadata": {},
   "outputs": [
    {
     "name": "stdout",
     "output_type": "stream",
     "text": [
      "('ekUxalRhaW1PNUw3YlZ1bjRVYzRFTzl3RktNMkdSYXBnNExrRnN6Qw==', 'cc2f7b4593e7891a183e06c68fbe1535', 'weather', 'postgres', '19SIMba97.', 'localhost', '5432')\n"
     ]
    }
   ],
   "source": [
    "print(load_env_variables())"
   ]
  },
  {
   "cell_type": "code",
   "execution_count": 59,
   "metadata": {},
   "outputs": [],
   "source": [
    "def fetch_cities(api_key):\n",
    "    base_url_c = \"https://api.countrystatecity.in/v1/countries/MY/cities\"\n",
    "    headers = {\"X-CSCAPI-KEY\": api_key}\n",
    "    c_response = httpx.get(base_url_c, headers=headers)\n",
    "    c_response.raise_for_status()\n",
    "    return [city['name'] for city in c_response.json()]"
   ]
  },
  {
   "cell_type": "code",
   "execution_count": 67,
   "metadata": {},
   "outputs": [
    {
     "name": "stdout",
     "output_type": "stream",
     "text": [
      "['Alor Gajah', 'Alor Setar', 'Ampang', 'Ayer Hangat', 'Bagan Pulau Ketam', 'Bagan Serai', 'Bahau', 'Bakri', 'Bandar Labuan', 'Banting', 'Batang Berjuntai', 'Batu Arang', 'Batu Berendam', 'Batu Feringgi', 'Batu Gajah', 'Batu Pahat', 'Beaufort', 'Bedong', 'Bemban', 'Bentong Town', 'Bidur', 'Bintulu', 'Bukit Mertajam', 'Bukit Rambai', 'Buloh Kasap', 'Butterworth', 'Chaah', 'Cukai', 'Daerah Batu Pahat', 'Daerah Johor Baharu', 'Daerah Keluang', 'Daerah Kota Tinggi', 'Daerah Mersing', 'Daerah Muar', 'Daerah Pontian', 'Daerah Segamat', 'Data Kakus', 'Donggongon', 'George Town', 'Gua Musang', 'Gurun', 'Ipoh', 'Jenjarum', 'Jerantut', 'Jertih', 'Jitra', 'Johor Bahru', 'Juru', 'Kampar', 'Kampong Baharu Balakong', 'Kampong Dungun', 'Kampong Kadok', 'Kampong Masjid Tanah', 'Kampong Pangkal Kalong', 'Kampung Ayer Keroh', 'Kampung Ayer Molek', 'Kampung Baharu Nilai', 'Kampung Baru Subang', 'Kampung Batu Feringgi', 'Kampung Bukit Baharu', 'Kampung Bukit Tinggi Bentong', 'Kampung Kilim', 'Kampung Kok', 'Kampung Kuala Besut', 'Kampung Pasir Gudang Baru', 'Kampung Simpang Renggam', 'Kampung Sungai Ara', 'Kampung Tanjung Karang', 'Kampung Tekek', 'Kangar', 'Kapit', 'Kelapa Sawit', 'Keningau', 'Kepala Batas', 'Kertih', 'Kinarut', 'Klang', 'Klebang Besar', 'Kluang', 'Kota Belud', 'Kota Bharu', 'Kota Kinabalu', 'Kota Tinggi', 'Kuah', 'Kuala Besut', 'Kuala Kangsar', 'Kuala Kedah', 'Kuala Lipis', 'Kuala Lumpur', 'Kuala Perlis', 'Kuala Pilah', 'Kuala Selangor', 'Kuala Sungai Baru', 'Kuala Terengganu', 'Kuala Teriang', 'Kuang', 'Kuantan', 'Kuching', 'Kudat', 'Kulai', 'Kulim', 'Labis', 'Labuan', 'Ladang Seri Kundang', 'Lahad Datu', 'Langkawi', 'Lawas', 'Lidung Jelo', 'Limbang', 'Long Ampan Aing or Abanang', 'Lumut', 'Malacca', 'Marang', 'Marudi', 'Mentekab', 'Mersing', 'Miri', 'Muar', 'Mukah', 'Nibong Tebal', 'Padang Mat Sirat', 'Paka', 'Pantai Cenang', 'Pantai Remis', 'Papar', 'Parit Buntar', 'Parit Raja', 'Pasir Mas', 'Pekan', 'Pekan Nenas', 'Pelabuhan Klang', 'Perai', 'Peringat', 'Permatang Kuching', 'Petaling Jaya', 'Pontian Kechil', 'Port Dickson', 'Pulau Sebang', 'Putatan', 'Putra Heights', 'Putrajaya', 'Ranau', 'Raub', 'Rawang', 'Sandakan', 'Sarikei', 'Seberang Perai', 'Segamat', 'Semenyih', 'Semporna', 'Seremban', 'Serendah', 'Shah Alam', 'Sibu', 'Simanggang', 'Simpang Empat', 'Skudai', 'Subang Jaya', 'Sungai Besar', 'Sungai Pelek New Village', 'Sungai Petani', 'Sungai Udang', 'Taiping', 'Taman Rajawali', 'Taman Senai', 'Tampin', 'Tanah Rata', 'Tangkak', 'Tanjung Sepat', 'Tanjung Tokong', 'Tapah Road', 'Tasek Glugor', 'Tawau', 'Telaga Batu', 'Teluk Intan', 'Temerluh', 'Tumpat', 'Ulu Tiram', 'Yong Peng']\n"
     ]
    }
   ],
   "source": [
    "print(fetch_cities(api_key_c))"
   ]
  },
  {
   "cell_type": "code",
   "execution_count": 60,
   "metadata": {},
   "outputs": [],
   "source": [
    "def fetch_weather(api_key, city):\n",
    "    base_url_w = \"https://api.openweathermap.org/data/2.5/weather\"\n",
    "    params = {'appid': api_key, 'q': city, 'units': \"metric\"}\n",
    "    w_response = httpx.get(base_url_w, params=params)\n",
    "    w_response.raise_for_status()\n",
    "    return w_response.json()"
   ]
  },
  {
   "cell_type": "code",
   "execution_count": 68,
   "metadata": {},
   "outputs": [
    {
     "data": {
      "text/plain": [
       "{'coord': {'lon': 101.768, 'lat': 3.1498},\n",
       " 'weather': [{'id': 804,\n",
       "   'main': 'Clouds',\n",
       "   'description': 'overcast clouds',\n",
       "   'icon': '04n'}],\n",
       " 'base': 'stations',\n",
       " 'main': {'temp': 27.45,\n",
       "  'feels_like': 32.19,\n",
       "  'temp_min': 26.44,\n",
       "  'temp_max': 27.79,\n",
       "  'pressure': 1008,\n",
       "  'humidity': 91,\n",
       "  'sea_level': 1008,\n",
       "  'grnd_level': 1002},\n",
       " 'visibility': 10000,\n",
       " 'wind': {'speed': 0.84, 'deg': 74, 'gust': 1.06},\n",
       " 'clouds': {'all': 100},\n",
       " 'dt': 1720895035,\n",
       " 'sys': {'type': 2,\n",
       "  'id': 66184,\n",
       "  'country': 'MY',\n",
       "  'sunrise': 1720912200,\n",
       "  'sunset': 1720956430},\n",
       " 'timezone': 28800,\n",
       " 'id': 1733046,\n",
       " 'name': 'Ampang',\n",
       " 'cod': 200}"
      ]
     },
     "execution_count": 68,
     "metadata": {},
     "output_type": "execute_result"
    }
   ],
   "source": [
    "fetch_weather(api_key_w, \"Ampang\")"
   ]
  },
  {
   "cell_type": "code",
   "execution_count": 61,
   "metadata": {},
   "outputs": [],
   "source": [
    "def get_db_connection_and_cursor(db_name, db_user, db_password, db_host, db_port):\n",
    "    conn = psycopg2.connect(\n",
    "        dbname=db_name,\n",
    "        user=db_user,\n",
    "        password=db_password,\n",
    "        host=db_host,\n",
    "        port=db_port\n",
    "    )\n",
    "    cursor = conn.cursor()\n",
    "    return conn, cursor"
   ]
  },
  {
   "cell_type": "code",
   "execution_count": 62,
   "metadata": {},
   "outputs": [],
   "source": [
    "def create_weather_table(cursor):\n",
    "    cursor.execute(\"\"\"\n",
    "        CREATE TABLE IF NOT EXISTS weather_jsondata (\n",
    "            id SERIAL PRIMARY KEY,\n",
    "            weather_data JSONB NOT NULL\n",
    "        )\n",
    "    \"\"\")"
   ]
  },
  {
   "cell_type": "code",
   "execution_count": 63,
   "metadata": {},
   "outputs": [],
   "source": [
    "def insert_weather_data(cursor, weather_data):\n",
    "    cursor.execute(\"INSERT INTO weather_jsondata (weather_data) VALUES (%s)\", (json.dumps(weather_data),))"
   ]
  },
  {
   "cell_type": "code",
   "execution_count": 64,
   "metadata": {},
   "outputs": [],
   "source": [
    "def main():\n",
    "    api_key_c, api_key_w, *db_params = load_env_variables()\n",
    "    conn, cursor = get_db_connection_and_cursor(*db_params)\n",
    "    create_weather_table(cursor)\n",
    "    conn.commit()  # Commit the transaction after table creation\n",
    "\n",
    "    cities = fetch_cities(api_key_c)\n",
    "    for city in cities:\n",
    "        try:\n",
    "            weather_data = fetch_weather(api_key_w, city)\n",
    "            insert_weather_data(cursor, weather_data)\n",
    "            conn.commit()\n",
    "        except (httpx.RequestError, httpx.HTTPStatusError, ValueError):\n",
    "            continue\n",
    "\n",
    "    cursor.close()\n",
    "    conn.close()\n",
    "\n",
    "\n",
    "main()"
   ]
  },
  {
   "cell_type": "code",
   "execution_count": null,
   "metadata": {},
   "outputs": [],
   "source": [
    "import os\n",
    "import httpx\n",
    "from dotenv import load_dotenv\n",
    "import psycopg2\n",
    "import json\n",
    "\n",
    "class WeatherDataProcessor:\n",
    "    def __init__(self):\n",
    "        self.api_key_c, self.api_key_w, *db_params = self.load_env_variables()\n",
    "        self.conn, self.cursor = self.get_db_connection_and_cursor(*db_params)\n",
    "\n",
    "    def load_env_variables(self):\n",
    "        load_dotenv()\n",
    "        api_key_c = os.getenv(\"api_key_c\")\n",
    "        api_key_w = os.getenv(\"api_key_w\")\n",
    "        db_name = os.getenv(\"DB_NAME\")\n",
    "        db_user = os.getenv(\"DB_USER\")\n",
    "        db_password = os.getenv(\"DB_PASSWORD\")\n",
    "        db_host = os.getenv(\"DB_HOST\")\n",
    "        db_port = os.getenv(\"DB_PORT\")\n",
    "        return api_key_c, api_key_w, db_name, db_user, db_password, db_host, db_port\n",
    "\n",
    "    def fetch_cities(self):\n",
    "        base_url_c = \"https://api.countrystatecity.in/v1/countries/MY/cities\"\n",
    "        headers = {\"X-CSCAPI-KEY\": self.api_key_c}\n",
    "        c_response = httpx.get(base_url_c, headers=headers)\n",
    "        c_response.raise_for_status()\n",
    "        return [city['name'] for city in c_response.json()]\n",
    "\n",
    "    def fetch_weather(self, city):\n",
    "        base_url_w = \"https://api.openweathermap.org/data/2.5/weather\"\n",
    "        params = {'appid': self.api_key_w, 'q': city, 'units': \"metric\"}\n",
    "        w_response = httpx.get(base_url_w, params=params)\n",
    "        w_response.raise_for_status()\n",
    "        return w_response.json()\n",
    "\n",
    "    def get_db_connection_and_cursor(self, db_name, db_user, db_password, db_host, db_port):\n",
    "        conn = psycopg2.connect(\n",
    "            dbname=db_name,\n",
    "            user=db_user,\n",
    "            password=db_password,\n",
    "            host=db_host,\n",
    "            port=db_port\n",
    "        )\n",
    "        cursor = conn.cursor()\n",
    "        return conn, cursor\n",
    "\n",
    "    def create_weather_table(self):\n",
    "        self.cursor.execute(\"\"\"\n",
    "            CREATE TABLE IF NOT EXISTS weather_jsondata (\n",
    "                id SERIAL PRIMARY KEY,\n",
    "                weather_data JSONB NOT NULL\n",
    "            )\n",
    "        \"\"\")\n",
    "\n",
    "    def insert_weather_data(self, weather_data):\n",
    "        self.cursor.execute(\"INSERT INTO weather_jsondata (weather_data) VALUES (%s)\", (json.dumps(weather_data),))\n",
    "\n",
    "    def process_weather_data(self):\n",
    "        self.create_weather_table()  # Create the table\n",
    "\n",
    "        self.conn.commit()  # Commit the transaction after table creation\n",
    "\n",
    "        cities = self.fetch_cities()\n",
    "        for city in cities:\n",
    "            try:\n",
    "                weather_data = self.fetch_weather(city)\n",
    "                self.insert_weather_data(weather_data)\n",
    "                self.conn.commit()  # Commit after each insert\n",
    "            except (httpx.RequestError, httpx.HTTPStatusError, ValueError):\n",
    "                continue  # Skip printing errors\n",
    "\n",
    "    def close_connection(self):\n",
    "        self.cursor.close()\n",
    "        self.conn.close()\n",
    "\n",
    "WeatherDataProcessor()\n",
    "    \n"
   ]
  },
  {
   "cell_type": "markdown",
   "metadata": {},
   "source": [
    "the code below is created for logic"
   ]
  },
  {
   "cell_type": "code",
   "execution_count": null,
   "metadata": {},
   "outputs": [],
   "source": [
    "load_dotenv()"
   ]
  },
  {
   "cell_type": "code",
   "execution_count": null,
   "metadata": {},
   "outputs": [],
   "source": [
    "api_key_c = os.getenv(\"api_key_c\")\n",
    "api_key_w = os.getenv(\"api_key_w\")"
   ]
  },
  {
   "cell_type": "code",
   "execution_count": null,
   "metadata": {},
   "outputs": [],
   "source": [
    "base_url_c = \"https://api.countrystatecity.in/v1/countries/MY/cities\"\n",
    "headers = {\"X-CSCAPI-KEY\": api_key_c}\n",
    "response = httpx.get(base_url_c, headers=headers).json()\n",
    "cities = [city['name'] for city in response]\n",
    "print(cities)\n",
    "num_cities = len(cities)\n",
    "print(num_cities)\n"
   ]
  },
  {
   "cell_type": "code",
   "execution_count": null,
   "metadata": {},
   "outputs": [],
   "source": [
    "weather_data = []\n",
    "w_url = \"https://api.openweathermap.org/data/2.5/weather\"\n",
    "for city in cities:\n",
    "    params = {'appid': api_key_w, 'q': city, 'units': \"metric\"}\n",
    "    try:  \n",
    "        w_response = httpx.get(w_url, params=params)\n",
    "        w_response.raise_for_status()\n",
    "        city_weather = {\n",
    "            'city': city,\n",
    "            'wd': w_response.json()\n",
    "        }\n",
    "        weather_data.append(city_weather)\n",
    "        # print(f\"Weather data fetched for {city}\")\n",
    "    except (httpx.RequestError, httpx.HTTPStatusError, ValueError):\n",
    "        pass"
   ]
  },
  {
   "cell_type": "code",
   "execution_count": null,
   "metadata": {},
   "outputs": [],
   "source": [
    "output_file = 'weather_data.json'\n",
    "with open(output_file, 'w') as f:\n",
    "    json.dump(weather_data, f, indent=2)"
   ]
  },
  {
   "cell_type": "code",
   "execution_count": null,
   "metadata": {},
   "outputs": [],
   "source": [
    "conn = psycopg2.connect(\n",
    "            dbname=os.getenv(\"DB_NAME\"),\n",
    "            user=os.getenv(\"DB_USER\"),\n",
    "            password=os.getenv(\"DB_PASSWORD\"),\n",
    "            host=os.getenv(\"DB_HOST\"),\n",
    "            port=os.getenv(\"DB_PORT\")\n",
    "        )\n",
    "cursor = conn.cursor()"
   ]
  },
  {
   "cell_type": "code",
   "execution_count": null,
   "metadata": {},
   "outputs": [],
   "source": [
    "cursor.execute(\"\"\"\n",
    "        CREATE TABLE IF NOT EXISTS weather_data (\n",
    "            id SERIAL PRIMARY KEY,\n",
    "            weather_data JSONB NOT NULL\n",
    "        );\n",
    "    \"\"\")"
   ]
  },
  {
   "cell_type": "code",
   "execution_count": null,
   "metadata": {},
   "outputs": [],
   "source": [
    "# Insert data into the table\n",
    "for data in weather_data:\n",
    "    weather_json = json.dumps(data['wd'])\n",
    "    cursor.execute(\"INSERT INTO weather_data (weather_data) VALUES (%s)\", (weather_json,))\n"
   ]
  },
  {
   "cell_type": "code",
   "execution_count": null,
   "metadata": {},
   "outputs": [],
   "source": [
    "cursor.execute(\"CREATE TABLE stag_weather AS (SELECT * FROM weather_data)\")"
   ]
  },
  {
   "cell_type": "code",
   "execution_count": null,
   "metadata": {},
   "outputs": [],
   "source": [
    "conn.commit()\n",
    "conn.close()"
   ]
  },
  {
   "cell_type": "code",
   "execution_count": null,
   "metadata": {},
   "outputs": [],
   "source": [
    "import psycopg2\n",
    "from psycopg2 import sql\n",
    "import os\n",
    "\n",
    "# Connection details from environment variables\n",
    "conn_params = {\n",
    "    'dbname': os.getenv(\"DB_NAME\"),\n",
    "    'user': os.getenv(\"DB_USER\"),\n",
    "    'password': os.getenv(\"DB_PASSWORD\"),\n",
    "    'host': os.getenv(\"DB_HOST\"),\n",
    "    'port': os.getenv(\"DB_PORT\")\n",
    "}\n",
    "\n",
    "try:\n",
    "    # Connect to the database\n",
    "    conn = psycopg2.connect(**conn_params)\n",
    "    cursor = conn.cursor()\n",
    "\n",
    "    # Drop the table if it exists\n",
    "    drop_table_query = sql.SQL(\"DROP TABLE IF EXISTS {table}\").format(\n",
    "        table=sql.Identifier('stag_weather')\n",
    "    )\n",
    "    cursor.execute(drop_table_query)\n",
    "    conn.commit()\n",
    "\n",
    "    print(\"Table 'weather_data' deleted successfully.\")\n",
    "\n",
    "except Exception as e:\n",
    "    print(f\"An error occurred: {e}\")\n",
    "\n",
    "finally:\n",
    "    if cursor:\n",
    "        cursor.close()\n",
    "    if conn:\n",
    "        conn.close()\n"
   ]
  },
  {
   "cell_type": "code",
   "execution_count": 56,
   "metadata": {},
   "outputs": [],
   "source": [
    "import os\n",
    "import httpx\n",
    "from dotenv import load_dotenv\n",
    "import psycopg2\n",
    "import json\n",
    "\n",
    "def load_env_variables():\n",
    "    load_dotenv()\n",
    "    api_key_c = os.getenv(\"api_key_c\")\n",
    "    api_key_w = os.getenv(\"api_key_w\")\n",
    "    db_name = os.getenv(\"DB_NAME\")\n",
    "    db_user = os.getenv(\"DB_USER\")\n",
    "    db_password = os.getenv(\"DB_PASSWORD\")\n",
    "    db_host = os.getenv(\"DB_HOST\")\n",
    "    db_port = os.getenv(\"DB_PORT\")\n",
    "    return api_key_c, api_key_w, db_name, db_user, db_password, db_host, db_port\n",
    "\n",
    "def fetch_cities(api_key):\n",
    "    base_url_c = \"https://api.countrystatecity.in/v1/countries/MY/cities\"\n",
    "    headers = {\"X-CSCAPI-KEY\": api_key}\n",
    "    c_response = httpx.get(base_url_c, headers=headers)\n",
    "    c_response.raise_for_status()\n",
    "    return [city['name'] for city in c_response.json()]\n",
    "\n",
    "def fetch_weather(api_key, city):\n",
    "    base_url_w = \"https://api.openweathermap.org/data/2.5/weather\"\n",
    "    params = {'appid': api_key, 'q': city, 'units': \"metric\"}\n",
    "    w_response = httpx.get(base_url_w, params=params)\n",
    "    w_response.raise_for_status()\n",
    "    return w_response.json()\n",
    "\n",
    "def get_db_connection_and_cursor(db_name, db_user, db_password, db_host, db_port):\n",
    "    conn = psycopg2.connect(\n",
    "        dbname=db_name,\n",
    "        user=db_user,\n",
    "        password=db_password,\n",
    "        host=db_host,\n",
    "        port=db_port\n",
    "    )\n",
    "    cursor = conn.cursor()\n",
    "    return conn, cursor\n",
    "\n",
    "def create_weather_table(cursor):\n",
    "    cursor.execute(\"\"\"\n",
    "        CREATE TABLE IF NOT EXISTS weather_jsondata (\n",
    "            id SERIAL PRIMARY KEY,\n",
    "            weather_data JSONB NOT NULL\n",
    "        )\n",
    "    \"\"\")\n",
    "\n",
    "def insert_weather_data(cursor, weather_data):\n",
    "    cursor.execute(\"INSERT INTO weather_jsondata (weather_data) VALUES (%s)\", (json.dumps(weather_data),))\n",
    "\n",
    "def main():\n",
    "    api_key_c, api_key_w, *db_params = load_env_variables()\n",
    "\n",
    "    conn, cursor = get_db_connection_and_cursor(*db_params)\n",
    "\n",
    "    create_weather_table(cursor)  # Create the table\n",
    "\n",
    "    conn.commit()  # Commit the transaction after table creation\n",
    "\n",
    "    cities = fetch_cities(api_key_c)\n",
    "    for city in cities:\n",
    "        try:\n",
    "            weather_data = fetch_weather(api_key_w, city)\n",
    "            insert_weather_data(cursor, weather_data)\n",
    "            conn.commit()  # Commit after each insert\n",
    "        except (httpx.RequestError, httpx.HTTPStatusError, ValueError):\n",
    "            continue\n",
    "\n",
    "    cursor.close()\n",
    "    conn.close()\n",
    "\n",
    "\n",
    "main()"
   ]
  }
 ],
 "metadata": {
  "kernelspec": {
   "display_name": ".venv",
   "language": "python",
   "name": "python3"
  },
  "language_info": {
   "codemirror_mode": {
    "name": "ipython",
    "version": 3
   },
   "file_extension": ".py",
   "mimetype": "text/x-python",
   "name": "python",
   "nbconvert_exporter": "python",
   "pygments_lexer": "ipython3",
   "version": "3.12.2"
  }
 },
 "nbformat": 4,
 "nbformat_minor": 2
}
